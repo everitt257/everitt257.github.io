{
 "cells": [
  {
   "cell_type": "markdown",
   "metadata": {},
   "source": [
    "## Block matrix structure\n",
    "\n",
    "$A = \\begin{bmatrix}A_1 & A_2\\\\A_3 & A_4\\end{bmatrix}$ where each $A_i$ is a smaller matrix."
   ]
  },
  {
   "cell_type": "markdown",
   "metadata": {},
   "source": [
    "### The Kronker Product\n",
    "The two dimensional case:\n",
    "$$\n",
    "\\begin{bmatrix} x_1 \\\\ x_2 \\end{bmatrix} \\otimes \\begin{bmatrix} y_1 \\\\ y_2 \\end{bmatrix} = \\begin{bmatrix} x_1y_1 \\\\ x_1y_2 \\\\ x_2y_1 \\\\ x_2y_2 \\end{bmatrix}\n",
    "$$\n",
    "\n",
    "![](http://om1hdizoc.bkt.clouddn.com/18-6-28/14597396.jpg)"
   ]
  },
  {
   "cell_type": "code",
   "execution_count": 17,
   "metadata": {},
   "outputs": [],
   "source": [
    "vec_f = lambda x: x.reshape([-1], order=\"F\") # vec_f stacks columns of x matrix vertically"
   ]
  },
  {
   "cell_type": "markdown",
   "metadata": {},
   "source": [
    "The above function, `vec_f` performs unfolding the tensor into one dimensional vector. \n",
    "- Fiber, a fiber of tensor is fix all other dimensions except one.\n",
    "- Slice, a slice of tensor is fix all other dimensions except two."
   ]
  },
  {
   "cell_type": "code",
   "execution_count": 36,
   "metadata": {},
   "outputs": [
    {
     "name": "stdout",
     "output_type": "stream",
     "text": [
      "[[[ 0  1]\n",
      "  [ 2  3]\n",
      "  [ 4  5]]\n",
      "\n",
      " [[ 6  7]\n",
      "  [ 8  9]\n",
      "  [10 11]]]\n"
     ]
    }
   ],
   "source": [
    "matrix_a = np.arange(12).reshape([2,3,2])\n",
    "print(matrix_a)"
   ]
  },
  {
   "cell_type": "code",
   "execution_count": 37,
   "metadata": {},
   "outputs": [
    {
     "name": "stdout",
     "output_type": "stream",
     "text": [
      "[ 0  6  2  8  4 10  1  7  3  9  5 11]\n"
     ]
    }
   ],
   "source": [
    "print(vec_f(matrix_a)) \n",
    "# vec example, each smaller bracket represent a fiber, \n",
    "# smaller pair means something like [3,9], the length of this pair is the k-th dimension-size"
   ]
  },
  {
   "cell_type": "code",
   "execution_count": 38,
   "metadata": {},
   "outputs": [
    {
     "name": "stdout",
     "output_type": "stream",
     "text": [
      "[[2 3]\n",
      " [8 9]]\n"
     ]
    }
   ],
   "source": [
    "print(matrix_a[:,1,:]) # a slice example"
   ]
  },
  {
   "cell_type": "markdown",
   "metadata": {},
   "source": [
    "## Tensor Unfold\n",
    "- The goal is to unfold multidimentional tensor into matrix(2d). There are many ways to unfold a tensor. One way of doing so is the mode-k unfoldings.\n",
    "\n",
    "- In a **model-k unfolding**, the mode-k fibers are assembled to produce an $n_k \\times (N/n_k)$ matrix. Where $N = n_1***n_d$.\n",
    "\n",
    "- In the lecture it's defined as horitontally stacking the column vectors of the n_k fibers. The column vectors represents changes of the unfixed dimension.\n",
    "\n",
    "- Note, a 4th order tensor is a block matrix."
   ]
  },
  {
   "cell_type": "markdown",
   "metadata": {},
   "source": [
    "![](http://om1hdizoc.bkt.clouddn.com/18-6-27/73014202.jpg)"
   ]
  },
  {
   "cell_type": "markdown",
   "metadata": {},
   "source": [
    "The above example turns 3-dimensional tensor into 2x2 matrix where's the dimension is 3 * 8. Obviously there are more than 1 way to reshape the 3-dimensinal tensor. "
   ]
  },
  {
   "cell_type": "markdown",
   "metadata": {},
   "source": [
    "## Contractions\n",
    "### Permutations\n",
    "There are many things I don't understand about permutations. Especially when it says transpose is of certain permutation.\n",
    "$$vec(Y) = S_{p,r} \\cdot vec(X)$$\n",
    "Like what is this perfect permutation thingy??"
   ]
  },
  {
   "cell_type": "markdown",
   "metadata": {},
   "source": [
    "### Contractions\n",
    "Definition: A contraction between two tensors produces a third tensor through\n",
    "a summation process."
   ]
  },
  {
   "cell_type": "markdown",
   "metadata": {},
   "source": [
    "Tensor Contractions: \n",
    "\n",
    "- Single index : Order(C) = Order(A) + Order(B) - 2\n",
    "- Double index : Order(C) = Order(A) + Order(B) - 4"
   ]
  },
  {
   "cell_type": "markdown",
   "metadata": {},
   "source": [
    "## Higher order SVDs"
   ]
  },
  {
   "cell_type": "markdown",
   "metadata": {},
   "source": [
    "- Higher Order Singular Value Decomposition (HOSVD) \n",
    "    - matrix product = tensor times matrix product\n",
    "- Kronecker Product Singular Value Decomposition (KPSVD)\n",
    "    - Nearest Kronecker product problem\n",
    "- Mode-k matrix product"
   ]
  },
  {
   "cell_type": "markdown",
   "metadata": {},
   "source": [
    "In general, if $A \\in \\mathbb{R}^{n_1 \\times \\cdot \\cdot \\cdot \\times n_d}$ and $M \\in \\mathbb{R}^{m_k \\times n_k}$ then\n",
    "\n",
    "$$\n",
    "B(\\alpha_1,...,\\alpha_{k-1},i,\\alpha_{k+1},....,\\alpha_d) = \\sum_{j=1}^{n_k}M(i,j) \\cdot A(\\alpha_1,...,\\alpha_{k-1},j,\\alpha_{k+1},....,\\alpha_d)\n",
    "$$"
   ]
  },
  {
   "cell_type": "markdown",
   "metadata": {},
   "source": [
    "Notice in $B$ and $A$, the i and j are at the same axis. Even though the dimension size might differ. B has the same order but different dimension than A."
   ]
  },
  {
   "cell_type": "markdown",
   "metadata": {},
   "source": [
    "In a nutshell, the mode=k product of M and A is denoted by \n",
    "$$B = A \\times_k M$$\n",
    "Thus if $B = A \\times_k M$. then $B$ is defined by $B_{(k)} = M \\cdot A_{(k)}$"
   ]
  },
  {
   "cell_type": "markdown",
   "metadata": {},
   "source": [
    "![](http://om1hdizoc.bkt.clouddn.com/18-7-2/1846517.jpg)"
   ]
  },
  {
   "cell_type": "markdown",
   "metadata": {},
   "source": [
    "![](http://om1hdizoc.bkt.clouddn.com/18-7-2/63893655.jpg)"
   ]
  },
  {
   "cell_type": "markdown",
   "metadata": {},
   "source": [
    "In a way, tucker product is a sucessive modal-k matrix product"
   ]
  },
  {
   "cell_type": "markdown",
   "metadata": {},
   "source": [
    "- Inverse Factors $U_k$\n",
    "- Core tensor $S$"
   ]
  },
  {
   "cell_type": "markdown",
   "metadata": {},
   "source": [
    "We can compute core tensor $S$ with HOSVD. We can recover $A$ with tucker products. "
   ]
  },
  {
   "cell_type": "markdown",
   "metadata": {},
   "source": [
    "![](http://om1hdizoc.bkt.clouddn.com/18-7-2/14602997.jpg)"
   ]
  },
  {
   "cell_type": "code",
   "execution_count": null,
   "metadata": {},
   "outputs": [],
   "source": []
  }
 ],
 "metadata": {
  "kernelspec": {
   "display_name": "Python 3",
   "language": "python",
   "name": "python3"
  },
  "language_info": {
   "codemirror_mode": {
    "name": "ipython",
    "version": 3
   },
   "file_extension": ".py",
   "mimetype": "text/x-python",
   "name": "python",
   "nbconvert_exporter": "python",
   "pygments_lexer": "ipython3",
   "version": "3.6.4"
  }
 },
 "nbformat": 4,
 "nbformat_minor": 2
}
